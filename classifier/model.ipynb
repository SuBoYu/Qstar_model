{
 "cells": [
  {
   "cell_type": "code",
   "execution_count": 84,
   "metadata": {},
   "source": [
    "import pandas as pd \n",
    "import sklearn as sk\n",
    "import numpy as np\n",
    "import talib \n",
    "from talib import abstract\n",
    "from sklearn import preprocessing\n",
    "from sklearn.model_selection import train_test_split\n",
    "from sklearn.ensemble import GradientBoostingClassifier\n",
    "import matplotlib.pyplot as plt\n",
    "from xgboost import XGBRegressor, XGBClassifier\n",
    "import tuneta\n",
    "from sklearn.model_selection import GridSearchCV\n",
    "import pandas_ta as ta\n",
    "from sklearn import preprocessing\n",
    "from sklearn.model_selection import train_test_split\n",
    "from sklearn.metrics import accuracy_score\n",
    "from sklearn.metrics import confusion_matrix, ConfusionMatrixDisplay\n",
    "import matplotlib.pyplot as plt\n",
    "from sklearn.metrics import accuracy_score\n",
    "from imblearn.over_sampling import SMOTE,RandomOverSampler, ADASYN\n",
    "from sklearn.metrics import confusion_matrix, roc_curve, auc\n",
    "import matplotlib.pyplot as plt\n",
    "\n"
   ],
   "outputs": []
  },
  {
   "cell_type": "code",
   "execution_count": 8,
   "metadata": {},
   "source": [
    "result = pd.read_csv('./result.csv')\n",
    "margin = pd.read_csv(\"100_feature_past_6_months_margin_short.csv\")"
   ],
   "outputs": []
  },
  {
   "cell_type": "code",
   "execution_count": 9,
   "metadata": {},
   "source": [
    "pattern = [name for name in list(result.columns) if name[:3] == 'cdl']\n",
    "\n",
    "pattern2drop = \\\n",
    "    ['cdl3starsinsouth', 'cdlabandonedbaby' , 'cdlconcealbabyswall'] + \\\n",
    "    ['cdlbreakaway' , 'cdl2crows', 'cdl3blackcrows','cdleveningdojistar' , 'cdleveningdojistar' ] + \\\n",
    "    ['cdl3linestrike' , 'cdl3whitesoldiers' ]\n",
    "\n",
    "pattern = list(set(pattern) - set(pattern2drop))\n"
   ],
   "outputs": []
  },
  {
   "cell_type": "code",
   "execution_count": 10,
   "metadata": {},
   "source": [
    "def classify_to_binary(profit):\n",
    "    if profit > 24:\n",
    "        return 0\n",
    "    else:\n",
    "        return 1\n",
    "\n",
    "def classify(profit):\n",
    "    if profit > 24:\n",
    "        return 0\n",
    "    elif profit >= 13:\n",
    "        return 1\n",
    "    elif profit >= 1.08:\n",
    "        return 2\n",
    "    else :\n",
    "        return 3"
   ],
   "outputs": []
  },
  {
   "cell_type": "code",
   "execution_count": 11,
   "metadata": {},
   "source": [
    "result['date'] = pd.to_datetime(result['date'])\n",
    "result['buy_date'] = pd.to_datetime(result['buy_date'])\n",
    "result['sell_date'] = pd.to_datetime(result['sell_date'])\n",
    "result[\"margin_diff\"] = 0\n",
    "result[\"short_diff\"]  = 0\n",
    "margin_ = margin.drop_duplicates(subset=['date','stock_id'], keep='first')\n",
    "margin_[\"date\"] = pd.to_datetime(margin_[\"date\"])\n",
    "no_margin = []"
   ],
   "outputs": []
  },
  {
   "cell_type": "code",
   "execution_count": 12,
   "metadata": {},
   "source": [
    "for stock_id in result[\"stock_id\"].unique():\n",
    "    tsm = result[result[\"stock_id\"] == stock_id]\n",
    "    for i in range(len(tsm)):\n",
    "        try:\n",
    "            test = margin_[(margin_[\"stock_id\"] == stock_id) & (margin_[\"date\"] <= tsm[\"sell_date\"].iloc[i])].sort_values(by=\"date\", ascending=True)[-20:]\n",
    "            test[\"margin_diff\"] = test[\"margin_balance\"].diff()\n",
    "            test[\"short_diff\"] = test[\"short_balance\"].diff()\n",
    "            if ((test[\"margin_diff\"].iloc[-1] > 5 * test[\"margin_diff\"].describe()[\"mean\"]) and (test[\"margin_diff\"].iloc[-1] == test[\"margin_diff\"].max())) or ((test[\"margin_diff\"].iloc[-1] == test[\"margin_diff\"].max()) and (test[\"margin_diff\"].describe()[\"mean\"] < 0)):\n",
    "                result.loc[result[result[\"stock_id\"] == stock_id].index[i], 'margin_diff'] = 1\n",
    "            else:\n",
    "                result.loc[result[result[\"stock_id\"] == stock_id].index[i], 'margin_diff'] = 0\n",
    "            if ((test[\"short_diff\"].iloc[-1] > 5 * test[\"short_diff\"].describe()[\"mean\"]) and (test[\"short_diff\"].iloc[-1] == test[\"short_diff\"].max())) or ((test[\"short_diff\"].iloc[-1] == test[\"short_diff\"].max()) and (test[\"short_diff\"].describe()[\"mean\"] < 0)):\n",
    "                result.loc[result[result[\"stock_id\"] == stock_id].index[i], 'short_diff'] = 1\n",
    "            else:\n",
    "                result.loc[result[result[\"stock_id\"] == stock_id].index[i], 'short_diff'] = 0\n",
    "        except IndexError:\n",
    "            no_margin.append(stock_id)"
   ],
   "outputs": []
  },
  {
   "cell_type": "code",
   "execution_count": 13,
   "metadata": {},
   "source": [
    "test = result.copy()\n",
    "test[\"binary classify\"] = test[\"profit(%)\"].apply(classify_to_binary)\n",
    "test[\"non binary\"] = test[\"profit(%)\"].apply(classify)"
   ],
   "outputs": []
  },
  {
   "cell_type": "code",
   "execution_count": 14,
   "metadata": {},
   "source": [
    "for col in test.columns:\n",
    "    if test[col].dtype == \"int32\":\n",
    "        test[col] = test[col].astype(\"float32\")\n",
    "    if test[col].dtype == \"float64\":\n",
    "        test[col] = test[col].astype(\"float32\") "
   ],
   "outputs": []
  },
  {
   "cell_type": "code",
   "execution_count": 27,
   "metadata": {},
   "source": [
    "\n",
    "momentum = ['aroonup', 'aroondown', 'aroonosc', 'mom']  # momentum indicators, Josh\n",
    "\n",
    "overlap = ['middleband' ,'midpoint' ,'midprice']  # overlap studies, Josh\n",
    "\n",
    "volume = []  # volume indicators, Wenxuan\n",
    "\n",
    "volatility = ['natr']\n",
    "\n",
    "price_transform = ['wclprice']\n",
    "\n",
    "cycle = ['ht_dcphase','date','margin_diff','short_diff']"
   ],
   "outputs": []
  },
  {
   "cell_type": "code",
   "execution_count": 34,
   "metadata": {},
   "source": [
    "keep_columns = pattern + momentum + overlap + volatility + price_transform + ['date']"
   ],
   "outputs": []
  },
  {
   "cell_type": "markdown",
   "metadata": {},
   "source": [
    "# Preprocess"
   ]
  },
  {
   "cell_type": "code",
   "execution_count": 79,
   "metadata": {},
   "source": [
    "X = test.copy().drop(columns=[\"Unnamed: 0_x\",\"open\",\"close\",\"high\",\"low\", \"stock_id\",\"acos\",\"asin\",\"profit(%)\",\"buy_price\",\"buy_date\", \"sell_date\",\"binary classify\",\"volume\",\"amount\",\"cosh\",\"exp\",\"sinh\",\"Unnamed: 0_y\",\"sell_price\",\"sell_price\",\"lowest_price\",\"highest_price\",\"MAE\",\"BMFE\",\"GMFE\",\"non binary\"])[keep_columns]\n",
    "\n",
    "X_train = X[X['date'].dt.year <= 2020].drop(columns=[\"date\"])\n",
    "X_test = X[X['date'].dt.year >= 2021].drop(columns=[\"date\"])\n",
    "y_train = test[test['date'].dt.year <= 2020][[\"binary classify\"]]\n",
    "y_test = test[test['date'].dt.year >= 2021][[\"binary classify\"]]"
   ],
   "outputs": []
  },
  {
   "cell_type": "code",
   "execution_count": 72,
   "metadata": {},
   "source": [
    "ros = RandomOverSampler(random_state=42,sampling_strategy='minority')"
   ],
   "outputs": []
  },
  {
   "cell_type": "code",
   "execution_count": 75,
   "metadata": {},
   "source": [
    "X_train, y_train = ros.fit_resample(X_train, y_train)\n"
   ],
   "outputs": []
  },
  {
   "cell_type": "markdown",
   "metadata": {},
   "source": [
    "# Binary Model"
   ]
  },
  {
   "cell_type": "code",
   "execution_count": 93,
   "metadata": {},
   "source": [
    "param_grid = {\n",
    "    'n_estimators': [10,50, 100, 150, 200],\n",
    "    'max_depth': [1,2,3, 4, 5, 6],\n",
    "    'learning_rate': [0.01, 0.05, 0.1, 0.5,0.03,0.07],\n",
    "}"
   ],
   "outputs": []
  },
  {
   "cell_type": "code",
   "execution_count": 94,
   "metadata": {},
   "source": [
    "grid_search = GridSearchCV(estimator=XGBClassifier(), param_grid= param_grid, scoring='accuracy', cv=5, n_jobs=-1)\n",
    "grid_search.fit(X_train, y_train)\n"
   ],
   "outputs": []
  },
  {
   "cell_type": "code",
   "execution_count": 96,
   "metadata": {},
   "source": [
    "best_model = grid_search.best_estimator_\n",
    "test_score = best_model.score(X_test, y_test)\n",
    "print(\"Test set score: {:.2f}\".format(test_score))\n"
   ],
   "outputs": []
  },
  {
   "cell_type": "code",
   "execution_count": 76,
   "metadata": {},
   "source": [
    "xgb_binary = XGBClassifier().fit(X_train, y_train)\n"
   ],
   "outputs": []
  },
  {
   "cell_type": "markdown",
   "metadata": {},
   "source": [
    "# Score"
   ]
  },
  {
   "cell_type": "code",
   "execution_count": 78,
   "metadata": {},
   "source": [
    "print(\"train_acu\",accuracy_score(xgb_binary.predict(X_train),y_train))\n",
    "print(\"test_acu\",accuracy_score(xgb_binary.predict(X_test),y_test))"
   ],
   "outputs": []
  },
  {
   "cell_type": "markdown",
   "metadata": {},
   "source": [
    "# Save model"
   ]
  },
  {
   "cell_type": "code",
   "execution_count": 97,
   "metadata": {},
   "source": [
    "import pickle\n",
    "model = grid_search\n",
    "with open('xgb_binary.pkl', 'wb') as file:\n",
    "    pickle.dump(model, file)\n"
   ],
   "outputs": []
  },
  {
   "cell_type": "markdown",
   "metadata": {},
   "source": [
    "# 4-Class Model"
   ]
  },
  {
   "cell_type": "code",
   "execution_count": 98,
   "metadata": {},
   "source": [
    "X = test.copy().drop(columns=[\"Unnamed: 0_x\",\"open\",\"close\",\"high\",\"low\", \"stock_id\",\"acos\",\"asin\",\"profit(%)\",\"buy_price\",\"buy_date\", \"sell_date\",\"binary classify\",\"volume\",\"amount\",\"cosh\",\"exp\",\"sinh\",\"Unnamed: 0_y\",\"sell_price\",\"sell_price\",\"lowest_price\",\"highest_price\",\"MAE\",\"BMFE\",\"GMFE\",\"non binary\"])\n",
    "\n",
    "X_train = X[X['date'].dt.year <= 2020].drop(columns=[\"date\"])\n",
    "X_test = X[X['date'].dt.year >= 2021].drop(columns=[\"date\"])\n",
    "y_train = test[test['date'].dt.year <= 2020][[\"non binary\"]]\n",
    "y_test = test[test['date'].dt.year >= 2021][[\"non binary\"]]"
   ],
   "outputs": []
  },
  {
   "cell_type": "code",
   "execution_count": 99,
   "metadata": {},
   "source": [
    "param_grid = {\n",
    "    'n_estimators': [10,50, 100, 150, 200],\n",
    "    'max_depth': [1,2,3, 4],\n",
    "    'learning_rate': [0.01, 0.1, 0.5,0.03,0.07],\n",
    "}"
   ],
   "outputs": []
  },
  {
   "cell_type": "code",
   "execution_count": 106,
   "metadata": {},
   "source": [
    "X_train, y_train = ros.fit_resample(X_train, y_train)\n"
   ],
   "outputs": []
  },
  {
   "cell_type": "code",
   "execution_count": 107,
   "metadata": {},
   "source": [
    "grid_search = GridSearchCV(estimator=XGBClassifier(), param_grid= param_grid, scoring='accuracy', cv=5, n_jobs=-1)\n",
    "grid_search.fit(X_train, y_train)"
   ],
   "outputs": []
  },
  {
   "cell_type": "code",
   "execution_count": 108,
   "metadata": {},
   "source": [
    "grid_search.best_params_"
   ],
   "outputs": []
  },
  {
   "cell_type": "code",
   "execution_count": 109,
   "metadata": {},
   "source": [
    "best_model = grid_search.best_estimator_\n",
    "test_score = best_model.score(X_test, y_test)\n",
    "print(\"Test set score: {:.2f}\".format(test_score))\n"
   ],
   "outputs": []
  },
  {
   "cell_type": "code",
   "execution_count": 67,
   "metadata": {},
   "source": [
    "xgb_four_class = XGBClassifier().fit(X_train, y_train)"
   ],
   "outputs": []
  },
  {
   "cell_type": "markdown",
   "metadata": {},
   "source": [
    "# Score"
   ]
  },
  {
   "cell_type": "code",
   "execution_count": 68,
   "metadata": {},
   "source": [
    "print(\"train_acu\",accuracy_score(xgb_four_class.predict(X_train),y_train))\n",
    "print(\"test_acu\",accuracy_score(xgb_four_class.predict(X_test),y_test))"
   ],
   "outputs": []
  },
  {
   "cell_type": "markdown",
   "metadata": {},
   "source": [
    "# Save Model"
   ]
  },
  {
   "cell_type": "code",
   "execution_count": 82,
   "metadata": {},
   "source": [
    "import pickle\n",
    "model = xgb_binary\n",
    "with open('xgb_four_class.pkl', 'wb') as file:\n",
    "    pickle.dump(model, file)\n"
   ],
   "outputs": []
  }
 ],
 "metadata": {
  "kernelspec": {
   "display_name": "Python 3",
   "language": "python",
   "name": "python3"
  },
  "language_info": {
   "codemirror_mode": {
    "name": "ipython",
    "version": 3
   },
   "file_extension": ".py",
   "mimetype": "text/x-python",
   "name": "python",
   "nbconvert_exporter": "python",
   "pygments_lexer": "ipython3",
   "version": "3.11.4"
  }
 },
 "nbformat": 4,
 "nbformat_minor": 2
}
